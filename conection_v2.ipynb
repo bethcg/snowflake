{
 "cells": [
  {
   "cell_type": "code",
   "execution_count": 2,
   "id": "37b7845f-1ace-4276-a2e5-882cb5e2bd47",
   "metadata": {},
   "outputs": [],
   "source": [
    "import snowflake.connector"
   ]
  },
  {
   "cell_type": "code",
   "execution_count": 4,
   "id": "e0c13c7f-b4f1-4564-86e5-35381f59f530",
   "metadata": {},
   "outputs": [],
   "source": [
    "import os\n",
    "import snowflake.connector as sc\n",
    "\n",
    "private_key_file = '/secrets/secrets.p8'\n",
    "\n",
    "conn_params = {\n",
    "    'account': 'TXCHEVP-EY34830',\n",
    "    'user': 'elisabetcg',\n",
    "    'password': '',\n",
    "    'role': 'ACCOUNTADMIN',\n",
    "    'warehouse': 'COMPUTE_WH',\n",
    "    'database': 'PETS',\n",
    "    'schema': 'PUBLIC'\n",
    "}\n",
    "\n",
    "\n",
    "ctx = sc.connect(**conn_params)\n",
    "cs = ctx.cursor()"
   ]
  },
  {
   "cell_type": "code",
   "execution_count": 15,
   "id": "ca16b9e4-af1b-4ad9-b588-7b49c6d38058",
   "metadata": {},
   "outputs": [
    {
     "data": {
      "text/plain": [
       "<snowflake.connector.cursor.SnowflakeCursor at 0x7fd1474c8710>"
      ]
     },
     "execution_count": 15,
     "metadata": {},
     "output_type": "execute_result"
    }
   ],
   "source": [
    "cs.execute('select * from mytable')"
   ]
  },
  {
   "cell_type": "code",
   "execution_count": 16,
   "id": "31224c1b-bbab-4785-a195-a406e3cc0299",
   "metadata": {},
   "outputs": [
    {
     "name": "stdout",
     "output_type": "stream",
     "text": [
      "[('Mary', 'dog'), ('John', 'cat'), ('Robert', 'bird')]\n",
      "[]\n"
     ]
    }
   ],
   "source": [
    "ret = cs.fetchmany(3)\n",
    "print(ret)\n",
    "while len(ret) > 0:\n",
    "    ret = cs.fetchmany(3)\n",
    "    print(ret)"
   ]
  },
  {
   "cell_type": "code",
   "execution_count": null,
   "id": "eb2befec-f39f-47d7-88be-930e572e3efd",
   "metadata": {},
   "outputs": [],
   "source": []
  }
 ],
 "metadata": {
  "kernelspec": {
   "display_name": "Python3",
   "language": "python",
   "name": "python3"
  },
  "language_info": {
   "codemirror_mode": {
    "name": "ipython",
    "version": 3
   },
   "file_extension": ".py",
   "mimetype": "text/x-python",
   "name": "python",
   "nbconvert_exporter": "python",
   "pygments_lexer": "ipython3",
   "version": "3.11.13"
  }
 },
 "nbformat": 4,
 "nbformat_minor": 5
}
