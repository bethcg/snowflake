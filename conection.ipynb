{
 "cells": [
  {
   "cell_type": "code",
   "execution_count": 3,
   "id": "37b7845f-1ace-4276-a2e5-882cb5e2bd47",
   "metadata": {},
   "outputs": [
    {
     "name": "stderr",
     "output_type": "stream",
     "text": [
      "/layers/paketo-buildpacks_conda-env-update/conda-env/lib/python3.11/site-packages/snowflake/connector/options.py:104: UserWarning: You have an incompatible version of 'pyarrow' installed (21.0.0), please install a version that adheres to: 'pyarrow<19.0.0; extra == \"pandas\"'\n",
      "  warn_incompatible_dep(\n"
     ]
    }
   ],
   "source": [
    "import snowflake.connector"
   ]
  },
  {
   "cell_type": "code",
   "execution_count": 7,
   "id": "e0c13c7f-b4f1-4564-86e5-35381f59f530",
   "metadata": {},
   "outputs": [
    {
     "ename": "FileNotFoundError",
     "evalue": "[Errno 2] No such file or directory: '../secrets/secrets.toml'",
     "output_type": "error",
     "traceback": [
      "\u001b[31m---------------------------------------------------------------------------\u001b[39m",
      "\u001b[31mFileNotFoundError\u001b[39m                         Traceback (most recent call last)",
      "\u001b[36mCell\u001b[39m\u001b[36m \u001b[39m\u001b[32mIn[7]\u001b[39m\u001b[32m, line 17\u001b[39m\n\u001b[32m      4\u001b[39m private_key_file = \u001b[33m'\u001b[39m\u001b[33m../secrets/secrets.toml\u001b[39m\u001b[33m'\u001b[39m\n\u001b[32m      6\u001b[39m conn_params = {\n\u001b[32m      7\u001b[39m     \u001b[33m'\u001b[39m\u001b[33maccount\u001b[39m\u001b[33m'\u001b[39m: \u001b[33m'\u001b[39m\u001b[33mTXCHEVP-EY34830\u001b[39m\u001b[33m'\u001b[39m,\n\u001b[32m      8\u001b[39m     \u001b[33m'\u001b[39m\u001b[33muser\u001b[39m\u001b[33m'\u001b[39m: \u001b[33m'\u001b[39m\u001b[33melisabetcg\u001b[39m\u001b[33m'\u001b[39m,\n\u001b[32m   (...)\u001b[39m\u001b[32m     13\u001b[39m     \u001b[33m'\u001b[39m\u001b[33mschema\u001b[39m\u001b[33m'\u001b[39m: \u001b[33m'\u001b[39m\u001b[33mPUBLIC\u001b[39m\u001b[33m'\u001b[39m\n\u001b[32m     14\u001b[39m }\n\u001b[32m---> \u001b[39m\u001b[32m17\u001b[39m ctx = \u001b[43msc\u001b[49m\u001b[43m.\u001b[49m\u001b[43mconnect\u001b[49m\u001b[43m(\u001b[49m\u001b[43m*\u001b[49m\u001b[43m*\u001b[49m\u001b[43mconn_params\u001b[49m\u001b[43m)\u001b[49m\n\u001b[32m     18\u001b[39m cs = ctx.cursor()\n",
      "\u001b[36mFile \u001b[39m\u001b[32m/layers/paketo-buildpacks_conda-env-update/conda-env/lib/python3.11/site-packages/snowflake/connector/__init__.py:54\u001b[39m, in \u001b[36mConnect\u001b[39m\u001b[34m(**kwargs)\u001b[39m\n\u001b[32m     52\u001b[39m \u001b[38;5;129m@wraps\u001b[39m(SnowflakeConnection.\u001b[34m__init__\u001b[39m)\n\u001b[32m     53\u001b[39m \u001b[38;5;28;01mdef\u001b[39;00m\u001b[38;5;250m \u001b[39m\u001b[34mConnect\u001b[39m(**kwargs) -> SnowflakeConnection:\n\u001b[32m---> \u001b[39m\u001b[32m54\u001b[39m     \u001b[38;5;28;01mreturn\u001b[39;00m \u001b[43mSnowflakeConnection\u001b[49m\u001b[43m(\u001b[49m\u001b[43m*\u001b[49m\u001b[43m*\u001b[49m\u001b[43mkwargs\u001b[49m\u001b[43m)\u001b[49m\n",
      "\u001b[36mFile \u001b[39m\u001b[32m/layers/paketo-buildpacks_conda-env-update/conda-env/lib/python3.11/site-packages/snowflake/connector/connection.py:554\u001b[39m, in \u001b[36mSnowflakeConnection.__init__\u001b[39m\u001b[34m(self, connection_name, connections_file_path, **kwargs)\u001b[39m\n\u001b[32m    552\u001b[39m     kwargs = _get_default_connection_params()\n\u001b[32m    553\u001b[39m \u001b[38;5;28mself\u001b[39m.__set_error_attributes()\n\u001b[32m--> \u001b[39m\u001b[32m554\u001b[39m \u001b[38;5;28;43mself\u001b[39;49m\u001b[43m.\u001b[49m\u001b[43mconnect\u001b[49m\u001b[43m(\u001b[49m\u001b[43m*\u001b[49m\u001b[43m*\u001b[49m\u001b[43mkwargs\u001b[49m\u001b[43m)\u001b[49m\n\u001b[32m    555\u001b[39m \u001b[38;5;28mself\u001b[39m._telemetry = TelemetryClient(\u001b[38;5;28mself\u001b[39m._rest)\n\u001b[32m    556\u001b[39m \u001b[38;5;28mself\u001b[39m.expired = \u001b[38;5;28;01mFalse\u001b[39;00m\n",
      "\u001b[36mFile \u001b[39m\u001b[32m/layers/paketo-buildpacks_conda-env-update/conda-env/lib/python3.11/site-packages/snowflake/connector/connection.py:911\u001b[39m, in \u001b[36mSnowflakeConnection.connect\u001b[39m\u001b[34m(self, **kwargs)\u001b[39m\n\u001b[32m    909\u001b[39m             \u001b[38;5;28;01mraise\u001b[39;00m \u001b[38;5;167;01mException\u001b[39;00m(\u001b[38;5;28mstr\u001b[39m(exceptions_dict))\n\u001b[32m    910\u001b[39m \u001b[38;5;28;01melse\u001b[39;00m:\n\u001b[32m--> \u001b[39m\u001b[32m911\u001b[39m     \u001b[38;5;28;43mself\u001b[39;49m\u001b[43m.\u001b[49m\u001b[43m__open_connection\u001b[49m\u001b[43m(\u001b[49m\u001b[43m)\u001b[49m\n",
      "\u001b[36mFile \u001b[39m\u001b[32m/layers/paketo-buildpacks_conda-env-update/conda-env/lib/python3.11/site-packages/snowflake/connector/connection.py:1200\u001b[39m, in \u001b[36mSnowflakeConnection.__open_connection\u001b[39m\u001b[34m(self)\u001b[39m\n\u001b[32m   1197\u001b[39m     private_key = \u001b[38;5;28mself\u001b[39m._private_key\n\u001b[32m   1199\u001b[39m     \u001b[38;5;28;01mif\u001b[39;00m \u001b[38;5;28mself\u001b[39m._private_key_file:\n\u001b[32m-> \u001b[39m\u001b[32m1200\u001b[39m         private_key = \u001b[43m_get_private_bytes_from_file\u001b[49m\u001b[43m(\u001b[49m\n\u001b[32m   1201\u001b[39m \u001b[43m            \u001b[49m\u001b[38;5;28;43mself\u001b[39;49m\u001b[43m.\u001b[49m\u001b[43m_private_key_file\u001b[49m\u001b[43m,\u001b[49m\n\u001b[32m   1202\u001b[39m \u001b[43m            \u001b[49m\u001b[38;5;28;43mself\u001b[39;49m\u001b[43m.\u001b[49m\u001b[43m_private_key_file_pwd\u001b[49m\u001b[43m,\u001b[49m\n\u001b[32m   1203\u001b[39m \u001b[43m        \u001b[49m\u001b[43m)\u001b[49m\n\u001b[32m   1205\u001b[39m     \u001b[38;5;28mself\u001b[39m.auth_class = AuthByKeyPair(\n\u001b[32m   1206\u001b[39m         private_key=private_key,\n\u001b[32m   1207\u001b[39m         timeout=\u001b[38;5;28mself\u001b[39m.login_timeout,\n\u001b[32m   1208\u001b[39m         backoff_generator=\u001b[38;5;28mself\u001b[39m._backoff_generator,\n\u001b[32m   1209\u001b[39m     )\n\u001b[32m   1210\u001b[39m \u001b[38;5;28;01melif\u001b[39;00m \u001b[38;5;28mself\u001b[39m._authenticator == OAUTH_AUTHENTICATOR:\n",
      "\u001b[36mFile \u001b[39m\u001b[32m/layers/paketo-buildpacks_conda-env-update/conda-env/lib/python3.11/site-packages/snowflake/connector/connection.py:148\u001b[39m, in \u001b[36m_get_private_bytes_from_file\u001b[39m\u001b[34m(private_key_file, private_key_file_pwd)\u001b[39m\n\u001b[32m    146\u001b[39m \u001b[38;5;28;01mif\u001b[39;00m private_key_file_pwd \u001b[38;5;129;01mis\u001b[39;00m \u001b[38;5;129;01mnot\u001b[39;00m \u001b[38;5;28;01mNone\u001b[39;00m \u001b[38;5;129;01mand\u001b[39;00m \u001b[38;5;28misinstance\u001b[39m(private_key_file_pwd, \u001b[38;5;28mstr\u001b[39m):\n\u001b[32m    147\u001b[39m     private_key_file_pwd = private_key_file_pwd.encode(\u001b[33m\"\u001b[39m\u001b[33mutf-8\u001b[39m\u001b[33m\"\u001b[39m)\n\u001b[32m--> \u001b[39m\u001b[32m148\u001b[39m \u001b[38;5;28;01mwith\u001b[39;00m \u001b[38;5;28;43mopen\u001b[39;49m\u001b[43m(\u001b[49m\u001b[43mprivate_key_file\u001b[49m\u001b[43m,\u001b[49m\u001b[43m \u001b[49m\u001b[33;43m\"\u001b[39;49m\u001b[33;43mrb\u001b[39;49m\u001b[33;43m\"\u001b[39;49m\u001b[43m)\u001b[49m \u001b[38;5;28;01mas\u001b[39;00m key:\n\u001b[32m    149\u001b[39m     private_key = serialization.load_pem_private_key(\n\u001b[32m    150\u001b[39m         key.read(),\n\u001b[32m    151\u001b[39m         password=private_key_file_pwd,\n\u001b[32m    152\u001b[39m         backend=default_backend(),\n\u001b[32m    153\u001b[39m     )\n\u001b[32m    155\u001b[39m pkb = private_key.private_bytes(\n\u001b[32m    156\u001b[39m     encoding=serialization.Encoding.DER,\n\u001b[32m    157\u001b[39m     \u001b[38;5;28mformat\u001b[39m=serialization.PrivateFormat.PKCS8,\n\u001b[32m    158\u001b[39m     encryption_algorithm=serialization.NoEncryption(),\n\u001b[32m    159\u001b[39m )\n",
      "\u001b[31mFileNotFoundError\u001b[39m: [Errno 2] No such file or directory: '../secrets/secrets.toml'"
     ]
    }
   ],
   "source": [
    "import os\n",
    "import snowflake.connector as sc\n",
    "\n",
    "private_key_file = './secrets/secrets.toml'\n",
    "\n",
    "conn_params = {\n",
    "    'account': 'TXCHEVP-EY34830',\n",
    "    'user': 'elisabetcg',\n",
    "    'private_key_file': private_key_file,\n",
    "    'role': 'ACCOUNTADMIN',\n",
    "    'warehouse': 'COMPUTE_WH',\n",
    "    'database': 'PETS',\n",
    "    'schema': 'PUBLIC'\n",
    "}\n",
    "\n",
    "\n",
    "ctx = sc.connect(**conn_params)\n",
    "cs = ctx.cursor()"
   ]
  },
  {
   "cell_type": "code",
   "execution_count": null,
   "id": "ca16b9e4-af1b-4ad9-b588-7b49c6d38058",
   "metadata": {},
   "outputs": [],
   "source": []
  }
 ],
 "metadata": {
  "kernelspec": {
   "display_name": "Python3",
   "language": "python",
   "name": "python3"
  },
  "language_info": {
   "codemirror_mode": {
    "name": "ipython",
    "version": 3
   },
   "file_extension": ".py",
   "mimetype": "text/x-python",
   "name": "python",
   "nbconvert_exporter": "python",
   "pygments_lexer": "ipython3",
   "version": "3.11.13"
  }
 },
 "nbformat": 4,
 "nbformat_minor": 5
}
