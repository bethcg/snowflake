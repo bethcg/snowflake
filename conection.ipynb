{
 "cells": [
  {
   "cell_type": "code",
   "execution_count": 1,
   "id": "37b7845f-1ace-4276-a2e5-882cb5e2bd47",
   "metadata": {},
   "outputs": [
    {
     "name": "stderr",
     "output_type": "stream",
     "text": [
      "/layers/paketo-buildpacks_conda-env-update/conda-env/lib/python3.11/site-packages/snowflake/connector/options.py:104: UserWarning: You have an incompatible version of 'pyarrow' installed (21.0.0), please install a version that adheres to: 'pyarrow<19.0.0; extra == \"pandas\"'\n",
      "  warn_incompatible_dep(\n"
     ]
    }
   ],
   "source": [
    "import snowflake.connector"
   ]
  },
  {
   "cell_type": "code",
   "execution_count": 2,
   "id": "fabe9edf-0391-4baa-8612-a0b7ad21beda",
   "metadata": {},
   "outputs": [],
   "source": [
    "!mkdir -p ~/.snowflake/\n",
    "!cp /secrets/connections.toml ~/.snowflake/connections.toml\n",
    "!chmod 600 ~/.snowflake/connections.toml"
   ]
  },
  {
   "cell_type": "code",
   "execution_count": 3,
   "id": "e0c13c7f-b4f1-4564-86e5-35381f59f530",
   "metadata": {},
   "outputs": [
    {
     "name": "stderr",
     "output_type": "stream",
     "text": [
      "/layers/paketo-buildpacks_conda-env-update/conda-env/lib/python3.11/site-packages/snowflake/connector/config_manager.py:343: UserWarning: Bad owner or permissions on /secrets/connections.toml.\n",
      " * To change owner, run `chown $USER \"/secrets/connections.toml\"`.\n",
      " * To restrict permissions, run `chmod 0600 \"/secrets/connections.toml\"`.\n",
      "\n",
      "  warn(f\"Bad owner or permissions on {str(filep)}{chmod_message}\")\n"
     ]
    },
    {
     "name": "stdout",
     "output_type": "stream",
     "text": [
      "[('Mary', 'dog'), ('John', 'cat'), ('Robert', 'bird')]\n",
      "[]\n"
     ]
    }
   ],
   "source": [
    "import os\n",
    "import snowflake.connector as sc\n",
    "import snowflake\n",
    "\n",
    "with snowflake.connector.connect(\n",
    "      connection_name=\"default\",\n",
    ") as conn:\n",
    "    cs = conn.cursor()\n",
    "    cs.execute('select * from mytable')\n",
    "    ret = cs.fetchmany(3)\n",
    "    print(ret)\n",
    "    while len(ret) > 0:\n",
    "        ret = cs.fetchmany(3)\n",
    "        print(ret)"
   ]
  }
 ],
 "metadata": {
  "kernelspec": {
   "display_name": "Python3",
   "language": "python",
   "name": "python3"
  },
  "language_info": {
   "codemirror_mode": {
    "name": "ipython",
    "version": 3
   },
   "file_extension": ".py",
   "mimetype": "text/x-python",
   "name": "python",
   "nbconvert_exporter": "python",
   "pygments_lexer": "ipython3",
   "version": "3.11.13"
  }
 },
 "nbformat": 4,
 "nbformat_minor": 5
}
