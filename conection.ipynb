{
 "cells": [
  {
   "cell_type": "code",
   "execution_count": 3,
   "id": "37b7845f-1ace-4276-a2e5-882cb5e2bd47",
   "metadata": {},
   "outputs": [
    {
     "name": "stderr",
     "output_type": "stream",
     "text": [
      "/layers/paketo-buildpacks_conda-env-update/conda-env/lib/python3.11/site-packages/snowflake/connector/options.py:104: UserWarning: You have an incompatible version of 'pyarrow' installed (21.0.0), please install a version that adheres to: 'pyarrow<19.0.0; extra == \"pandas\"'\n",
      "  warn_incompatible_dep(\n"
     ]
    }
   ],
   "source": [
    "import snowflake.connector"
   ]
  },
  {
   "cell_type": "code",
   "execution_count": 3,
   "id": "e0c13c7f-b4f1-4564-86e5-35381f59f530",
   "metadata": {},
   "outputs": [],
   "source": [
    "import os\n",
    "import snowflake.connector as sc\n",
    "import snowflake\n",
    "\n",
    "with snowflake.connector.connect(\n",
    "      connection_name=\"default\",\n",
    ") as conn:\n",
    "    cs = conn.cursor()"
   ]
  },
  {
   "cell_type": "code",
   "execution_count": null,
   "id": "ca16b9e4-af1b-4ad9-b588-7b49c6d38058",
   "metadata": {},
   "outputs": [],
   "source": []
  }
 ],
 "metadata": {
  "kernelspec": {
   "display_name": "Python3",
   "language": "python",
   "name": "python3"
  },
  "language_info": {
   "codemirror_mode": {
    "name": "ipython",
    "version": 3
   },
   "file_extension": ".py",
   "mimetype": "text/x-python",
   "name": "python",
   "nbconvert_exporter": "python",
   "pygments_lexer": "ipython3",
   "version": "3.11.13"
  }
 },
 "nbformat": 4,
 "nbformat_minor": 5
}
