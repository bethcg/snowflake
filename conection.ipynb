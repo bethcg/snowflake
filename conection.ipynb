{
 "cells": [
  {
   "cell_type": "code",
   "execution_count": 1,
   "id": "37b7845f-1ace-4276-a2e5-882cb5e2bd47",
   "metadata": {},
   "outputs": [
    {
     "name": "stderr",
     "output_type": "stream",
     "text": [
      "/layers/paketo-buildpacks_conda-env-update/conda-env/lib/python3.11/site-packages/snowflake/connector/options.py:104: UserWarning: You have an incompatible version of 'pyarrow' installed (21.0.0), please install a version that adheres to: 'pyarrow<19.0.0; extra == \"pandas\"'\n",
      "  warn_incompatible_dep(\n"
     ]
    }
   ],
   "source": [
    "import snowflake.connector"
   ]
  },
  {
   "cell_type": "code",
   "execution_count": 2,
   "id": "fabe9edf-0391-4baa-8612-a0b7ad21beda",
   "metadata": {},
   "outputs": [],
   "source": [
    "!mkdir -p ~/.snowflake/\n",
    "!cp /secrets/connections.toml ~/.snowflake/connections.toml\n",
    "!chmod 600 ~/.snowflake/connections.toml"
   ]
  },
  {
   "cell_type": "code",
   "execution_count": 13,
   "id": "e0c13c7f-b4f1-4564-86e5-35381f59f530",
   "metadata": {},
   "outputs": [
    {
     "name": "stderr",
     "output_type": "stream",
     "text": [
      "/layers/paketo-buildpacks_conda-env-update/conda-env/lib/python3.11/site-packages/snowflake/connector/config_manager.py:343: UserWarning: Bad owner or permissions on /secrets/connections.toml.\n",
      " * To change owner, run `chown $USER \"/secrets/connections.toml\"`.\n",
      " * To restrict permissions, run `chmod 0600 \"/secrets/connections.toml\"`.\n",
      "\n",
      "  warn(f\"Bad owner or permissions on {str(filep)}{chmod_message}\")\n"
     ]
    }
   ],
   "source": [
    "import os\n",
    "import snowflake.connector as sc\n",
    "import snowflake\n",
    "import pandas as pd\n",
    "\n",
    "with snowflake.connector.connect(\n",
    "      connection_name=\"default\",\n",
    ") as conn:\n",
    "    cs = conn.cursor()\n",
    "    cs.execute('select * from IRIS_DATASET')\n",
    "    ret = cs.fetchall()\n",
    "    df = pd.DataFrame(ret,columns=['id','sepal length','sepal width','petal length','petal width','species','NA'])"
   ]
  },
  {
   "cell_type": "code",
   "execution_count": 14,
   "id": "1dec73d8-beef-41c2-a2cf-a5e77a451569",
   "metadata": {},
   "outputs": [
    {
     "name": "stdout",
     "output_type": "stream",
     "text": [
      "      id sepal length sepal width petal length petal width    species    NA\n",
      "0      1          5.1         3.5          1.4         0.2     setosa  None\n",
      "1      2          4.9         3.0          1.4         0.2     setosa  None\n",
      "2      3          4.7         3.2          1.3         0.2     setosa  None\n",
      "3      4          4.6         3.1          1.5         0.2     setosa  None\n",
      "4      5          5.0         3.6          1.4         0.2     setosa  None\n",
      "..   ...          ...         ...          ...         ...        ...   ...\n",
      "145  146          6.7         3.0          5.2         2.3  virginica  None\n",
      "146  147          6.3         2.5          5.0         1.9  virginica  None\n",
      "147  148          6.5         3.0          5.2         2.0  virginica  None\n",
      "148  149          6.2         3.4          5.4         2.3  virginica  None\n",
      "149  150          5.9         3.0          5.1         1.8  virginica  None\n",
      "\n",
      "[150 rows x 7 columns]\n"
     ]
    }
   ],
   "source": [
    "print(df)"
   ]
  },
  {
   "cell_type": "code",
   "execution_count": null,
   "id": "a5abe5e6-b1eb-4359-ad02-9f8721fd02e3",
   "metadata": {},
   "outputs": [],
   "source": []
  }
 ],
 "metadata": {
  "kernelspec": {
   "display_name": "Python3",
   "language": "python",
   "name": "python3"
  },
  "language_info": {
   "codemirror_mode": {
    "name": "ipython",
    "version": 3
   },
   "file_extension": ".py",
   "mimetype": "text/x-python",
   "name": "python",
   "nbconvert_exporter": "python",
   "pygments_lexer": "ipython3",
   "version": "3.11.13"
  }
 },
 "nbformat": 4,
 "nbformat_minor": 5
}
